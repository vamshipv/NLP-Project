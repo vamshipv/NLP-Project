{
 "cells": [
  {
   "cell_type": "markdown",
   "id": "445f2f8a",
   "metadata": {},
   "source": [
    "Install and Import Libraries:"
   ]
  },
  {
   "cell_type": "code",
   "execution_count": null,
   "id": "71010369",
   "metadata": {},
   "outputs": [],
   "source": [
    "!pip install openai sentence-transformers faiss-cpu hf_xet "
   ]
  },
  {
   "cell_type": "markdown",
   "id": "21deb282",
   "metadata": {},
   "source": [
    "Load and Chunk your Document:"
   ]
  },
  {
   "cell_type": "code",
   "execution_count": 29,
   "id": "d40d6da7",
   "metadata": {},
   "outputs": [],
   "source": [
    "\n",
    "with open('winnie_the_pooh.txt', 'r') as file:\n",
    "    # Read the entire content of the file into a string\n",
    "    text = file.read()\n",
    "\n",
    "chunks = [text[i:i+200] for i in range(0, len(text), 200)]"
   ]
  },
  {
   "cell_type": "markdown",
   "id": "f06cd075",
   "metadata": {},
   "source": [
    "Generate Embeddings with SenteceTransformers:"
   ]
  },
  {
   "cell_type": "code",
   "execution_count": 24,
   "id": "64f757a9",
   "metadata": {},
   "outputs": [],
   "source": [
    "from sentence_transformers import SentenceTransformer\n",
    "model = SentenceTransformer(\"all-MiniLM-L6-v2\")\n",
    "embeddings = model.encode(chunks)"
   ]
  },
  {
   "cell_type": "markdown",
   "id": "22a935f0",
   "metadata": {},
   "source": [
    "Store Embeddings in a FAISS Index for Similarity Search:"
   ]
  },
  {
   "cell_type": "code",
   "execution_count": 25,
   "id": "5655044b",
   "metadata": {},
   "outputs": [],
   "source": [
    "import faiss\n",
    "import numpy as np\n",
    "\n",
    "index = faiss.IndexFlatL2(embeddings[0].shape[0])\n",
    "index.add(np.array(embeddings))\n",
    "\n",
    "# Search\n",
    "query = \"Who is always sad?\"\n",
    "query_embedding = model.encode([query])\n",
    "D, I = index.search(np.array(query_embedding), k=3)"
   ]
  },
  {
   "cell_type": "code",
   "execution_count": null,
   "id": "49880ec2",
   "metadata": {},
   "outputs": [],
   "source": [
    "for i in I[0]:\n",
    "    print(chunks[i])\n",
    "    print(\"....\")"
   ]
  },
  {
   "cell_type": "markdown",
   "id": "88a86dc2",
   "metadata": {},
   "source": [
    "Build the Prompt from Retrieved Chunks:"
   ]
  },
  {
   "cell_type": "code",
   "execution_count": null,
   "id": "ebce8464",
   "metadata": {},
   "outputs": [],
   "source": [
    "\n",
    "retrieved_chunks = [chunks[i] for i in I[0]]\n",
    "\n",
    "# Format the prompt\n",
    "context = \"\\n\\n\".join(retrieved_chunks)\n",
    "#query = \"What is the capital of France?\"\n",
    "\n",
    "prompt = f\"\"\"You are a helpful assistant. Use the following context to answer the question.\n",
    "\n",
    "Context:\n",
    "{context}\n",
    "\n",
    "Question:\n",
    "{query}\n",
    "\n",
    "Answer:\"\"\"\n",
    "\n",
    "print(prompt)"
   ]
  },
  {
   "cell_type": "markdown",
   "id": "50b06930",
   "metadata": {},
   "source": [
    "Generate an Answer Using a Lightweight Language Model:"
   ]
  },
  {
   "cell_type": "code",
   "execution_count": 28,
   "id": "d4f117f4",
   "metadata": {},
   "outputs": [
    {
     "name": "stdout",
     "output_type": "stream",
     "text": [
      "Answer: Eeyore\n"
     ]
    }
   ],
   "source": [
    "\n",
    "from transformers import AutoTokenizer, AutoModelForSeq2SeqLM\n",
    "import torch\n",
    "\n",
    "# Load a small, instruction-tuned model\n",
    "model_name = \"google/flan-t5-base\"\n",
    "tokenizer = AutoTokenizer.from_pretrained(model_name)\n",
    "model = AutoModelForSeq2SeqLM.from_pretrained(model_name)\n",
    "\n",
    "# Build prompt from chunks\n",
    "retrieved_chunks = [chunks[i] for i in I[0]]\n",
    "context = \"\\n\\n\".join(retrieved_chunks)\n",
    "\n",
    "\n",
    "# Simple instruction-style prompt for T5\n",
    "prompt = f\"Answer the question based on the context.\\n\\nContext:\\n{context}\\n\\nQuestion:\\n{query}\"\n",
    "\n",
    "# Tokenize input\n",
    "inputs = tokenizer(prompt, return_tensors=\"pt\", truncation=True)\n",
    "\n",
    "# Generate output\n",
    "with torch.no_grad():\n",
    "    outputs = model.generate(**inputs, max_new_tokens=100)\n",
    "\n",
    "# Decode and print\n",
    "answer = tokenizer.decode(outputs[0], skip_special_tokens=True)\n",
    "print(\"Answer:\", answer)"
   ]
  }
 ],
 "metadata": {
  "kernelspec": {
   "display_name": "Python 3",
   "language": "python",
   "name": "python3"
  },
  "language_info": {
   "codemirror_mode": {
    "name": "ipython",
    "version": 3
   },
   "file_extension": ".py",
   "mimetype": "text/x-python",
   "name": "python",
   "nbconvert_exporter": "python",
   "pygments_lexer": "ipython3",
   "version": "3.12.9"
  }
 },
 "nbformat": 4,
 "nbformat_minor": 5
}
